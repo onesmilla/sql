{
 "cells": [
  {
   "cell_type": "markdown",
   "metadata": {},
   "source": [
    "# Проект для кредитного отдела банка."
   ]
  },
  {
   "cell_type": "markdown",
   "metadata": {},
   "source": [
    "## Влияет ли семейное положение и наличие детей у клиента на возврат кредита в срок."
   ]
  },
  {
   "cell_type": "markdown",
   "metadata": {},
   "source": [
    "1. [**Подготовка данных к анализу.**](#100101)\n",
    "2. [**Проблемы на первый взгляд.**](#100102)\n",
    "3. [**Новые проблемы в данных.**](#100103)\n",
    "4. [**Стемминг.**](#100104)\n",
    "5. [**Задолженность у клиентов с разным количеством детей.**](#100105)\n",
    "6. [**Задолженность клиентов в зависимости от их семейного статуса.**](#100106)\n",
    "7. [**Группы по доходам.**](#100107)\n",
    "8. [**Зависимость задолженности от - детей, семейного положения, доходов.**](#100108)\n",
    "9. [**Выводы.**](#100109)"
   ]
  },
  {
   "cell_type": "code",
   "execution_count": 2,
   "metadata": {},
   "outputs": [],
   "source": [
    "import pandas as pd\n",
    "data=pd.read_csv('data.csv')\n",
    "\n",
    "from nltk.stem import SnowballStemmer\n",
    "from pymystem3 import Mystem\n",
    "pd.options.mode.chained_assignment = None\n",
    "pd.options.display.max_colwidth = 100\n",
    "pd.set_option('display.max_rows', 500)\n",
    "pd.set_option('display.max_columns', 500) \n",
    "pd.set_option('display.width', 1000)"
   ]
  },
  {
   "cell_type": "markdown",
   "metadata": {},
   "source": [
    "### 1. Подготовка данных к анализу <a id='100101'></a>"
   ]
  },
  {
   "cell_type": "code",
   "execution_count": 3,
   "metadata": {
    "scrolled": true
   },
   "outputs": [
    {
     "name": "stdout",
     "output_type": "stream",
     "text": [
      "<class 'pandas.core.frame.DataFrame'>\n",
      "RangeIndex: 21525 entries, 0 to 21524\n",
      "Data columns (total 12 columns):\n",
      "children            21525 non-null int64\n",
      "days_employed       19351 non-null float64\n",
      "dob_years           21525 non-null int64\n",
      "education           21525 non-null object\n",
      "education_id        21525 non-null int64\n",
      "family_status       21525 non-null object\n",
      "family_status_id    21525 non-null int64\n",
      "gender              21525 non-null object\n",
      "income_type         21525 non-null object\n",
      "debt                21525 non-null int64\n",
      "total_income        19351 non-null float64\n",
      "purpose             21525 non-null object\n",
      "dtypes: float64(2), int64(5), object(5)\n",
      "memory usage: 2.0+ MB\n"
     ]
    }
   ],
   "source": [
    "#Посмотрим на таблицу и её параметры:\n",
    "data.info()"
   ]
  },
  {
   "cell_type": "code",
   "execution_count": 4,
   "metadata": {
    "scrolled": true
   },
   "outputs": [
    {
     "data": {
      "text/plain": [
       "Index(['children', 'days_employed', 'dob_years', 'education', 'education_id', 'family_status', 'family_status_id', 'gender', 'income_type', 'debt', 'total_income', 'purpose'], dtype='object')"
      ]
     },
     "execution_count": 4,
     "metadata": {},
     "output_type": "execute_result"
    }
   ],
   "source": [
    "#Посмотрим на названия колонок:\n",
    "data.columns"
   ]
  },
  {
   "cell_type": "code",
   "execution_count": 5,
   "metadata": {
    "scrolled": true
   },
   "outputs": [
    {
     "data": {
      "text/html": [
       "<div>\n",
       "<style scoped>\n",
       "    .dataframe tbody tr th:only-of-type {\n",
       "        vertical-align: middle;\n",
       "    }\n",
       "\n",
       "    .dataframe tbody tr th {\n",
       "        vertical-align: top;\n",
       "    }\n",
       "\n",
       "    .dataframe thead th {\n",
       "        text-align: right;\n",
       "    }\n",
       "</style>\n",
       "<table border=\"1\" class=\"dataframe\">\n",
       "  <thead>\n",
       "    <tr style=\"text-align: right;\">\n",
       "      <th></th>\n",
       "      <th>children</th>\n",
       "      <th>days_employed</th>\n",
       "      <th>dob_years</th>\n",
       "      <th>education</th>\n",
       "      <th>education_id</th>\n",
       "      <th>family_status</th>\n",
       "      <th>family_status_id</th>\n",
       "      <th>gender</th>\n",
       "      <th>income_type</th>\n",
       "      <th>debt</th>\n",
       "      <th>total_income</th>\n",
       "      <th>purpose</th>\n",
       "    </tr>\n",
       "  </thead>\n",
       "  <tbody>\n",
       "    <tr>\n",
       "      <th>0</th>\n",
       "      <td>1</td>\n",
       "      <td>-8437.673028</td>\n",
       "      <td>42</td>\n",
       "      <td>высшее</td>\n",
       "      <td>0</td>\n",
       "      <td>женат / замужем</td>\n",
       "      <td>0</td>\n",
       "      <td>F</td>\n",
       "      <td>сотрудник</td>\n",
       "      <td>0</td>\n",
       "      <td>253875.639453</td>\n",
       "      <td>покупка жилья</td>\n",
       "    </tr>\n",
       "    <tr>\n",
       "      <th>1</th>\n",
       "      <td>1</td>\n",
       "      <td>-4024.803754</td>\n",
       "      <td>36</td>\n",
       "      <td>среднее</td>\n",
       "      <td>1</td>\n",
       "      <td>женат / замужем</td>\n",
       "      <td>0</td>\n",
       "      <td>F</td>\n",
       "      <td>сотрудник</td>\n",
       "      <td>0</td>\n",
       "      <td>112080.014102</td>\n",
       "      <td>приобретение автомобиля</td>\n",
       "    </tr>\n",
       "    <tr>\n",
       "      <th>2</th>\n",
       "      <td>0</td>\n",
       "      <td>-5623.422610</td>\n",
       "      <td>33</td>\n",
       "      <td>Среднее</td>\n",
       "      <td>1</td>\n",
       "      <td>женат / замужем</td>\n",
       "      <td>0</td>\n",
       "      <td>M</td>\n",
       "      <td>сотрудник</td>\n",
       "      <td>0</td>\n",
       "      <td>145885.952297</td>\n",
       "      <td>покупка жилья</td>\n",
       "    </tr>\n",
       "    <tr>\n",
       "      <th>3</th>\n",
       "      <td>3</td>\n",
       "      <td>-4124.747207</td>\n",
       "      <td>32</td>\n",
       "      <td>среднее</td>\n",
       "      <td>1</td>\n",
       "      <td>женат / замужем</td>\n",
       "      <td>0</td>\n",
       "      <td>M</td>\n",
       "      <td>сотрудник</td>\n",
       "      <td>0</td>\n",
       "      <td>267628.550329</td>\n",
       "      <td>дополнительное образование</td>\n",
       "    </tr>\n",
       "    <tr>\n",
       "      <th>4</th>\n",
       "      <td>0</td>\n",
       "      <td>340266.072047</td>\n",
       "      <td>53</td>\n",
       "      <td>среднее</td>\n",
       "      <td>1</td>\n",
       "      <td>гражданский брак</td>\n",
       "      <td>1</td>\n",
       "      <td>F</td>\n",
       "      <td>пенсионер</td>\n",
       "      <td>0</td>\n",
       "      <td>158616.077870</td>\n",
       "      <td>сыграть свадьбу</td>\n",
       "    </tr>\n",
       "    <tr>\n",
       "      <th>5</th>\n",
       "      <td>0</td>\n",
       "      <td>-926.185831</td>\n",
       "      <td>27</td>\n",
       "      <td>высшее</td>\n",
       "      <td>0</td>\n",
       "      <td>гражданский брак</td>\n",
       "      <td>1</td>\n",
       "      <td>M</td>\n",
       "      <td>компаньон</td>\n",
       "      <td>0</td>\n",
       "      <td>255763.565419</td>\n",
       "      <td>покупка жилья</td>\n",
       "    </tr>\n",
       "    <tr>\n",
       "      <th>6</th>\n",
       "      <td>0</td>\n",
       "      <td>-2879.202052</td>\n",
       "      <td>43</td>\n",
       "      <td>высшее</td>\n",
       "      <td>0</td>\n",
       "      <td>женат / замужем</td>\n",
       "      <td>0</td>\n",
       "      <td>F</td>\n",
       "      <td>компаньон</td>\n",
       "      <td>0</td>\n",
       "      <td>240525.971920</td>\n",
       "      <td>операции с жильем</td>\n",
       "    </tr>\n",
       "    <tr>\n",
       "      <th>7</th>\n",
       "      <td>0</td>\n",
       "      <td>-152.779569</td>\n",
       "      <td>50</td>\n",
       "      <td>СРЕДНЕЕ</td>\n",
       "      <td>1</td>\n",
       "      <td>женат / замужем</td>\n",
       "      <td>0</td>\n",
       "      <td>M</td>\n",
       "      <td>сотрудник</td>\n",
       "      <td>0</td>\n",
       "      <td>135823.934197</td>\n",
       "      <td>образование</td>\n",
       "    </tr>\n",
       "    <tr>\n",
       "      <th>8</th>\n",
       "      <td>2</td>\n",
       "      <td>-6929.865299</td>\n",
       "      <td>35</td>\n",
       "      <td>ВЫСШЕЕ</td>\n",
       "      <td>0</td>\n",
       "      <td>гражданский брак</td>\n",
       "      <td>1</td>\n",
       "      <td>F</td>\n",
       "      <td>сотрудник</td>\n",
       "      <td>0</td>\n",
       "      <td>95856.832424</td>\n",
       "      <td>на проведение свадьбы</td>\n",
       "    </tr>\n",
       "    <tr>\n",
       "      <th>9</th>\n",
       "      <td>0</td>\n",
       "      <td>-2188.756445</td>\n",
       "      <td>41</td>\n",
       "      <td>среднее</td>\n",
       "      <td>1</td>\n",
       "      <td>женат / замужем</td>\n",
       "      <td>0</td>\n",
       "      <td>M</td>\n",
       "      <td>сотрудник</td>\n",
       "      <td>0</td>\n",
       "      <td>144425.938277</td>\n",
       "      <td>покупка жилья для семьи</td>\n",
       "    </tr>\n",
       "    <tr>\n",
       "      <th>10</th>\n",
       "      <td>2</td>\n",
       "      <td>-4171.483647</td>\n",
       "      <td>36</td>\n",
       "      <td>высшее</td>\n",
       "      <td>0</td>\n",
       "      <td>женат / замужем</td>\n",
       "      <td>0</td>\n",
       "      <td>M</td>\n",
       "      <td>компаньон</td>\n",
       "      <td>0</td>\n",
       "      <td>113943.491460</td>\n",
       "      <td>покупка недвижимости</td>\n",
       "    </tr>\n",
       "    <tr>\n",
       "      <th>11</th>\n",
       "      <td>0</td>\n",
       "      <td>-792.701887</td>\n",
       "      <td>40</td>\n",
       "      <td>среднее</td>\n",
       "      <td>1</td>\n",
       "      <td>женат / замужем</td>\n",
       "      <td>0</td>\n",
       "      <td>F</td>\n",
       "      <td>сотрудник</td>\n",
       "      <td>0</td>\n",
       "      <td>77069.234271</td>\n",
       "      <td>покупка коммерческой недвижимости</td>\n",
       "    </tr>\n",
       "    <tr>\n",
       "      <th>12</th>\n",
       "      <td>0</td>\n",
       "      <td>NaN</td>\n",
       "      <td>65</td>\n",
       "      <td>среднее</td>\n",
       "      <td>1</td>\n",
       "      <td>гражданский брак</td>\n",
       "      <td>1</td>\n",
       "      <td>M</td>\n",
       "      <td>пенсионер</td>\n",
       "      <td>0</td>\n",
       "      <td>NaN</td>\n",
       "      <td>сыграть свадьбу</td>\n",
       "    </tr>\n",
       "    <tr>\n",
       "      <th>13</th>\n",
       "      <td>0</td>\n",
       "      <td>-1846.641941</td>\n",
       "      <td>54</td>\n",
       "      <td>неоконченное высшее</td>\n",
       "      <td>2</td>\n",
       "      <td>женат / замужем</td>\n",
       "      <td>0</td>\n",
       "      <td>F</td>\n",
       "      <td>сотрудник</td>\n",
       "      <td>0</td>\n",
       "      <td>130458.228857</td>\n",
       "      <td>приобретение автомобиля</td>\n",
       "    </tr>\n",
       "    <tr>\n",
       "      <th>14</th>\n",
       "      <td>0</td>\n",
       "      <td>-1844.956182</td>\n",
       "      <td>56</td>\n",
       "      <td>высшее</td>\n",
       "      <td>0</td>\n",
       "      <td>гражданский брак</td>\n",
       "      <td>1</td>\n",
       "      <td>F</td>\n",
       "      <td>компаньон</td>\n",
       "      <td>1</td>\n",
       "      <td>165127.911772</td>\n",
       "      <td>покупка жилой недвижимости</td>\n",
       "    </tr>\n",
       "  </tbody>\n",
       "</table>\n",
       "</div>"
      ],
      "text/plain": [
       "    children  days_employed  dob_years            education  education_id     family_status  family_status_id gender income_type  debt   total_income                            purpose\n",
       "0          1   -8437.673028         42               высшее             0   женат / замужем                 0      F   сотрудник     0  253875.639453                      покупка жилья\n",
       "1          1   -4024.803754         36              среднее             1   женат / замужем                 0      F   сотрудник     0  112080.014102            приобретение автомобиля\n",
       "2          0   -5623.422610         33              Среднее             1   женат / замужем                 0      M   сотрудник     0  145885.952297                      покупка жилья\n",
       "3          3   -4124.747207         32              среднее             1   женат / замужем                 0      M   сотрудник     0  267628.550329         дополнительное образование\n",
       "4          0  340266.072047         53              среднее             1  гражданский брак                 1      F   пенсионер     0  158616.077870                    сыграть свадьбу\n",
       "5          0    -926.185831         27               высшее             0  гражданский брак                 1      M   компаньон     0  255763.565419                      покупка жилья\n",
       "6          0   -2879.202052         43               высшее             0   женат / замужем                 0      F   компаньон     0  240525.971920                  операции с жильем\n",
       "7          0    -152.779569         50              СРЕДНЕЕ             1   женат / замужем                 0      M   сотрудник     0  135823.934197                        образование\n",
       "8          2   -6929.865299         35               ВЫСШЕЕ             0  гражданский брак                 1      F   сотрудник     0   95856.832424              на проведение свадьбы\n",
       "9          0   -2188.756445         41              среднее             1   женат / замужем                 0      M   сотрудник     0  144425.938277            покупка жилья для семьи\n",
       "10         2   -4171.483647         36               высшее             0   женат / замужем                 0      M   компаньон     0  113943.491460               покупка недвижимости\n",
       "11         0    -792.701887         40              среднее             1   женат / замужем                 0      F   сотрудник     0   77069.234271  покупка коммерческой недвижимости\n",
       "12         0            NaN         65              среднее             1  гражданский брак                 1      M   пенсионер     0            NaN                    сыграть свадьбу\n",
       "13         0   -1846.641941         54  неоконченное высшее             2   женат / замужем                 0      F   сотрудник     0  130458.228857            приобретение автомобиля\n",
       "14         0   -1844.956182         56               высшее             0  гражданский брак                 1      F   компаньон     1  165127.911772         покупка жилой недвижимости"
      ]
     },
     "execution_count": 5,
     "metadata": {},
     "output_type": "execute_result"
    }
   ],
   "source": [
    "#Распечатаем данные первых двадцати строк:\n",
    "data.head(15)"
   ]
  },
  {
   "cell_type": "code",
   "execution_count": 6,
   "metadata": {},
   "outputs": [
    {
     "data": {
      "text/html": [
       "<div>\n",
       "<style scoped>\n",
       "    .dataframe tbody tr th:only-of-type {\n",
       "        vertical-align: middle;\n",
       "    }\n",
       "\n",
       "    .dataframe tbody tr th {\n",
       "        vertical-align: top;\n",
       "    }\n",
       "\n",
       "    .dataframe thead th {\n",
       "        text-align: right;\n",
       "    }\n",
       "</style>\n",
       "<table border=\"1\" class=\"dataframe\">\n",
       "  <thead>\n",
       "    <tr style=\"text-align: right;\">\n",
       "      <th></th>\n",
       "      <th>children</th>\n",
       "      <th>days_employed</th>\n",
       "      <th>dob_years</th>\n",
       "      <th>education</th>\n",
       "      <th>education_id</th>\n",
       "      <th>family_status</th>\n",
       "      <th>family_status_id</th>\n",
       "      <th>gender</th>\n",
       "      <th>income_type</th>\n",
       "      <th>debt</th>\n",
       "      <th>total_income</th>\n",
       "      <th>purpose</th>\n",
       "    </tr>\n",
       "  </thead>\n",
       "  <tbody>\n",
       "    <tr>\n",
       "      <th>21510</th>\n",
       "      <td>2</td>\n",
       "      <td>NaN</td>\n",
       "      <td>28</td>\n",
       "      <td>среднее</td>\n",
       "      <td>1</td>\n",
       "      <td>женат / замужем</td>\n",
       "      <td>0</td>\n",
       "      <td>F</td>\n",
       "      <td>сотрудник</td>\n",
       "      <td>0</td>\n",
       "      <td>NaN</td>\n",
       "      <td>приобретение автомобиля</td>\n",
       "    </tr>\n",
       "    <tr>\n",
       "      <th>21511</th>\n",
       "      <td>0</td>\n",
       "      <td>-612.569129</td>\n",
       "      <td>29</td>\n",
       "      <td>высшее</td>\n",
       "      <td>0</td>\n",
       "      <td>гражданский брак</td>\n",
       "      <td>1</td>\n",
       "      <td>F</td>\n",
       "      <td>сотрудник</td>\n",
       "      <td>1</td>\n",
       "      <td>140068.472941</td>\n",
       "      <td>покупка жилья для сдачи</td>\n",
       "    </tr>\n",
       "    <tr>\n",
       "      <th>21512</th>\n",
       "      <td>0</td>\n",
       "      <td>-165.377752</td>\n",
       "      <td>26</td>\n",
       "      <td>высшее</td>\n",
       "      <td>0</td>\n",
       "      <td>Не женат / не замужем</td>\n",
       "      <td>4</td>\n",
       "      <td>M</td>\n",
       "      <td>компаньон</td>\n",
       "      <td>0</td>\n",
       "      <td>147301.457769</td>\n",
       "      <td>получение дополнительного образования</td>\n",
       "    </tr>\n",
       "    <tr>\n",
       "      <th>21513</th>\n",
       "      <td>0</td>\n",
       "      <td>-1166.216789</td>\n",
       "      <td>35</td>\n",
       "      <td>среднее</td>\n",
       "      <td>1</td>\n",
       "      <td>женат / замужем</td>\n",
       "      <td>0</td>\n",
       "      <td>F</td>\n",
       "      <td>сотрудник</td>\n",
       "      <td>0</td>\n",
       "      <td>250986.142309</td>\n",
       "      <td>покупка жилья</td>\n",
       "    </tr>\n",
       "    <tr>\n",
       "      <th>21514</th>\n",
       "      <td>0</td>\n",
       "      <td>-280.469996</td>\n",
       "      <td>27</td>\n",
       "      <td>неоконченное высшее</td>\n",
       "      <td>2</td>\n",
       "      <td>Не женат / не замужем</td>\n",
       "      <td>4</td>\n",
       "      <td>M</td>\n",
       "      <td>компаньон</td>\n",
       "      <td>0</td>\n",
       "      <td>355988.407188</td>\n",
       "      <td>строительство недвижимости</td>\n",
       "    </tr>\n",
       "    <tr>\n",
       "      <th>21515</th>\n",
       "      <td>1</td>\n",
       "      <td>-467.685130</td>\n",
       "      <td>28</td>\n",
       "      <td>среднее</td>\n",
       "      <td>1</td>\n",
       "      <td>женат / замужем</td>\n",
       "      <td>0</td>\n",
       "      <td>F</td>\n",
       "      <td>сотрудник</td>\n",
       "      <td>1</td>\n",
       "      <td>109486.327999</td>\n",
       "      <td>заняться образованием</td>\n",
       "    </tr>\n",
       "    <tr>\n",
       "      <th>21516</th>\n",
       "      <td>0</td>\n",
       "      <td>-914.391429</td>\n",
       "      <td>42</td>\n",
       "      <td>высшее</td>\n",
       "      <td>0</td>\n",
       "      <td>женат / замужем</td>\n",
       "      <td>0</td>\n",
       "      <td>F</td>\n",
       "      <td>компаньон</td>\n",
       "      <td>0</td>\n",
       "      <td>322807.776603</td>\n",
       "      <td>покупка своего жилья</td>\n",
       "    </tr>\n",
       "    <tr>\n",
       "      <th>21517</th>\n",
       "      <td>0</td>\n",
       "      <td>-404.679034</td>\n",
       "      <td>42</td>\n",
       "      <td>высшее</td>\n",
       "      <td>0</td>\n",
       "      <td>гражданский брак</td>\n",
       "      <td>1</td>\n",
       "      <td>F</td>\n",
       "      <td>компаньон</td>\n",
       "      <td>0</td>\n",
       "      <td>178059.553491</td>\n",
       "      <td>на покупку своего автомобиля</td>\n",
       "    </tr>\n",
       "    <tr>\n",
       "      <th>21518</th>\n",
       "      <td>0</td>\n",
       "      <td>373995.710838</td>\n",
       "      <td>59</td>\n",
       "      <td>СРЕДНЕЕ</td>\n",
       "      <td>1</td>\n",
       "      <td>женат / замужем</td>\n",
       "      <td>0</td>\n",
       "      <td>F</td>\n",
       "      <td>пенсионер</td>\n",
       "      <td>0</td>\n",
       "      <td>153864.650328</td>\n",
       "      <td>сделка с автомобилем</td>\n",
       "    </tr>\n",
       "    <tr>\n",
       "      <th>21519</th>\n",
       "      <td>1</td>\n",
       "      <td>-2351.431934</td>\n",
       "      <td>37</td>\n",
       "      <td>ученая степень</td>\n",
       "      <td>4</td>\n",
       "      <td>в разводе</td>\n",
       "      <td>3</td>\n",
       "      <td>M</td>\n",
       "      <td>сотрудник</td>\n",
       "      <td>0</td>\n",
       "      <td>115949.039788</td>\n",
       "      <td>покупка коммерческой недвижимости</td>\n",
       "    </tr>\n",
       "    <tr>\n",
       "      <th>21520</th>\n",
       "      <td>1</td>\n",
       "      <td>-4529.316663</td>\n",
       "      <td>43</td>\n",
       "      <td>среднее</td>\n",
       "      <td>1</td>\n",
       "      <td>гражданский брак</td>\n",
       "      <td>1</td>\n",
       "      <td>F</td>\n",
       "      <td>компаньон</td>\n",
       "      <td>0</td>\n",
       "      <td>224791.862382</td>\n",
       "      <td>операции с жильем</td>\n",
       "    </tr>\n",
       "    <tr>\n",
       "      <th>21521</th>\n",
       "      <td>0</td>\n",
       "      <td>343937.404131</td>\n",
       "      <td>67</td>\n",
       "      <td>среднее</td>\n",
       "      <td>1</td>\n",
       "      <td>женат / замужем</td>\n",
       "      <td>0</td>\n",
       "      <td>F</td>\n",
       "      <td>пенсионер</td>\n",
       "      <td>0</td>\n",
       "      <td>155999.806512</td>\n",
       "      <td>сделка с автомобилем</td>\n",
       "    </tr>\n",
       "    <tr>\n",
       "      <th>21522</th>\n",
       "      <td>1</td>\n",
       "      <td>-2113.346888</td>\n",
       "      <td>38</td>\n",
       "      <td>среднее</td>\n",
       "      <td>1</td>\n",
       "      <td>гражданский брак</td>\n",
       "      <td>1</td>\n",
       "      <td>M</td>\n",
       "      <td>сотрудник</td>\n",
       "      <td>1</td>\n",
       "      <td>89672.561153</td>\n",
       "      <td>недвижимость</td>\n",
       "    </tr>\n",
       "    <tr>\n",
       "      <th>21523</th>\n",
       "      <td>3</td>\n",
       "      <td>-3112.481705</td>\n",
       "      <td>38</td>\n",
       "      <td>среднее</td>\n",
       "      <td>1</td>\n",
       "      <td>женат / замужем</td>\n",
       "      <td>0</td>\n",
       "      <td>M</td>\n",
       "      <td>сотрудник</td>\n",
       "      <td>1</td>\n",
       "      <td>244093.050500</td>\n",
       "      <td>на покупку своего автомобиля</td>\n",
       "    </tr>\n",
       "    <tr>\n",
       "      <th>21524</th>\n",
       "      <td>2</td>\n",
       "      <td>-1984.507589</td>\n",
       "      <td>40</td>\n",
       "      <td>среднее</td>\n",
       "      <td>1</td>\n",
       "      <td>женат / замужем</td>\n",
       "      <td>0</td>\n",
       "      <td>F</td>\n",
       "      <td>сотрудник</td>\n",
       "      <td>0</td>\n",
       "      <td>82047.418899</td>\n",
       "      <td>на покупку автомобиля</td>\n",
       "    </tr>\n",
       "  </tbody>\n",
       "</table>\n",
       "</div>"
      ],
      "text/plain": [
       "       children  days_employed  dob_years            education  education_id          family_status  family_status_id gender income_type  debt   total_income                                purpose\n",
       "21510         2            NaN         28              среднее             1        женат / замужем                 0      F   сотрудник     0            NaN                приобретение автомобиля\n",
       "21511         0    -612.569129         29               высшее             0       гражданский брак                 1      F   сотрудник     1  140068.472941                покупка жилья для сдачи\n",
       "21512         0    -165.377752         26               высшее             0  Не женат / не замужем                 4      M   компаньон     0  147301.457769  получение дополнительного образования\n",
       "21513         0   -1166.216789         35              среднее             1        женат / замужем                 0      F   сотрудник     0  250986.142309                          покупка жилья\n",
       "21514         0    -280.469996         27  неоконченное высшее             2  Не женат / не замужем                 4      M   компаньон     0  355988.407188             строительство недвижимости\n",
       "21515         1    -467.685130         28              среднее             1        женат / замужем                 0      F   сотрудник     1  109486.327999                  заняться образованием\n",
       "21516         0    -914.391429         42               высшее             0        женат / замужем                 0      F   компаньон     0  322807.776603                   покупка своего жилья\n",
       "21517         0    -404.679034         42               высшее             0       гражданский брак                 1      F   компаньон     0  178059.553491           на покупку своего автомобиля\n",
       "21518         0  373995.710838         59              СРЕДНЕЕ             1        женат / замужем                 0      F   пенсионер     0  153864.650328                   сделка с автомобилем\n",
       "21519         1   -2351.431934         37       ученая степень             4              в разводе                 3      M   сотрудник     0  115949.039788      покупка коммерческой недвижимости\n",
       "21520         1   -4529.316663         43              среднее             1       гражданский брак                 1      F   компаньон     0  224791.862382                      операции с жильем\n",
       "21521         0  343937.404131         67              среднее             1        женат / замужем                 0      F   пенсионер     0  155999.806512                   сделка с автомобилем\n",
       "21522         1   -2113.346888         38              среднее             1       гражданский брак                 1      M   сотрудник     1   89672.561153                           недвижимость\n",
       "21523         3   -3112.481705         38              среднее             1        женат / замужем                 0      M   сотрудник     1  244093.050500           на покупку своего автомобиля\n",
       "21524         2   -1984.507589         40              среднее             1        женат / замужем                 0      F   сотрудник     0   82047.418899                  на покупку автомобиля"
      ]
     },
     "execution_count": 6,
     "metadata": {},
     "output_type": "execute_result"
    }
   ],
   "source": [
    "#Распечатаем данные последних двадцати строк:\n",
    "data.tail(15)"
   ]
  },
  {
   "cell_type": "markdown",
   "metadata": {},
   "source": [
    "### 2. Обозначим проблемы на первый взгляд: <a id='100102'></a>\n",
    "12 колонок и 21525 строк. Название столбца 'dob_days' лучше сменить 'age', для более правильного отражения содержимого.\n",
    "* В колонке 'days_employed' есть отрицательные значения и пропуски (в колонке заполнена всего 19351 строка, кстати в 'total_income' тоже, между пропусками прослеживается прямая связь), а так же лучше привести эту колонку к целочисленному типу;\n",
    "* В колонке 'education' есть проблемы с регистром;\n",
    "* В колонке 'family_status' проблемы с регистром, лучше привести к единообразию;\n",
    "* В колонке 'total_income' есть пропущенные значения и для удобства, ее лучше привести к целочисленному типу;\n",
    "* Колонка purpose требует лемматизации.\n",
    "*********************\n",
    "### Проведем более подробное исследование:"
   ]
  },
  {
   "cell_type": "code",
   "execution_count": 7,
   "metadata": {},
   "outputs": [
    {
     "data": {
      "text/plain": [
       "children               0\n",
       "days_employed       2174\n",
       "dob_years              0\n",
       "education              0\n",
       "education_id           0\n",
       "family_status          0\n",
       "family_status_id       0\n",
       "gender                 0\n",
       "income_type            0\n",
       "debt                   0\n",
       "total_income        2174\n",
       "purpose                0\n",
       "dtype: int64"
      ]
     },
     "execution_count": 7,
     "metadata": {},
     "output_type": "execute_result"
    }
   ],
   "source": [
    "#Проверим количество пропусков  методами **isnull()** и **sum()**\n",
    "data.isnull().sum()"
   ]
  },
  {
   "cell_type": "markdown",
   "metadata": {},
   "source": [
    "Подтвердилась явная взаимосвязь пропусков двух столбцов 'days_employed' и 'total_income'.\n",
    "\n",
    "* _Исследуем уникальные значения некоторых столбцов методами **value_counts()** и **unique()**:_"
   ]
  },
  {
   "cell_type": "code",
   "execution_count": 8,
   "metadata": {
    "scrolled": true
   },
   "outputs": [
    {
     "data": {
      "text/plain": [
       " 0     14149\n",
       " 1      4818\n",
       " 2      2055\n",
       " 3       330\n",
       " 20       76\n",
       "-1        47\n",
       " 4        41\n",
       " 5         9\n",
       "Name: children, dtype: int64"
      ]
     },
     "execution_count": 8,
     "metadata": {},
     "output_type": "execute_result"
    }
   ],
   "source": [
    "data['children'].value_counts()"
   ]
  },
  {
   "cell_type": "code",
   "execution_count": 9,
   "metadata": {},
   "outputs": [
    {
     "data": {
      "text/plain": [
       "array([42, 36, 33, 32, 53, 27, 43, 50, 35, 41, 40, 65, 54, 56, 26, 48, 24,\n",
       "       21, 57, 67, 28, 63, 62, 47, 34, 68, 25, 31, 30, 20, 49, 37, 45, 61,\n",
       "       64, 44, 52, 46, 23, 38, 39, 51,  0, 59, 29, 60, 55, 58, 71, 22, 73,\n",
       "       66, 69, 19, 72, 70, 74, 75], dtype=int64)"
      ]
     },
     "execution_count": 9,
     "metadata": {},
     "output_type": "execute_result"
    }
   ],
   "source": [
    "data['dob_years'].unique()"
   ]
  },
  {
   "cell_type": "code",
   "execution_count": 10,
   "metadata": {
    "scrolled": false
   },
   "outputs": [
    {
     "data": {
      "text/plain": [
       "array(['высшее', 'среднее', 'Среднее', 'СРЕДНЕЕ', 'ВЫСШЕЕ',\n",
       "       'неоконченное высшее', 'начальное', 'Высшее',\n",
       "       'НЕОКОНЧЕННОЕ ВЫСШЕЕ', 'Неоконченное высшее', 'НАЧАЛЬНОЕ',\n",
       "       'Начальное', 'Ученая степень', 'УЧЕНАЯ СТЕПЕНЬ', 'ученая степень'],\n",
       "      dtype=object)"
      ]
     },
     "execution_count": 10,
     "metadata": {},
     "output_type": "execute_result"
    }
   ],
   "source": [
    "data['education'].unique()"
   ]
  },
  {
   "cell_type": "code",
   "execution_count": 11,
   "metadata": {
    "scrolled": true
   },
   "outputs": [
    {
     "data": {
      "text/plain": [
       "array([0, 1, 2, 3, 4], dtype=int64)"
      ]
     },
     "execution_count": 11,
     "metadata": {},
     "output_type": "execute_result"
    }
   ],
   "source": [
    "data['education_id'].unique()"
   ]
  },
  {
   "cell_type": "code",
   "execution_count": 12,
   "metadata": {
    "scrolled": true
   },
   "outputs": [
    {
     "data": {
      "text/plain": [
       "array(['женат / замужем', 'гражданский брак', 'вдовец / вдова',\n",
       "       'в разводе', 'Не женат / не замужем'], dtype=object)"
      ]
     },
     "execution_count": 12,
     "metadata": {},
     "output_type": "execute_result"
    }
   ],
   "source": [
    "data['family_status'].unique()"
   ]
  },
  {
   "cell_type": "code",
   "execution_count": 13,
   "metadata": {
    "scrolled": true
   },
   "outputs": [
    {
     "data": {
      "text/plain": [
       "array([0, 1, 2, 3, 4], dtype=int64)"
      ]
     },
     "execution_count": 13,
     "metadata": {},
     "output_type": "execute_result"
    }
   ],
   "source": [
    "data['family_status_id'].unique()"
   ]
  },
  {
   "cell_type": "code",
   "execution_count": 14,
   "metadata": {},
   "outputs": [
    {
     "data": {
      "text/plain": [
       "F      14236\n",
       "M       7288\n",
       "XNA        1\n",
       "Name: gender, dtype: int64"
      ]
     },
     "execution_count": 14,
     "metadata": {},
     "output_type": "execute_result"
    }
   ],
   "source": [
    "data['gender'].value_counts()"
   ]
  },
  {
   "cell_type": "code",
   "execution_count": 15,
   "metadata": {},
   "outputs": [
    {
     "data": {
      "text/plain": [
       "array(['сотрудник', 'пенсионер', 'компаньон', 'госслужащий',\n",
       "       'безработный', 'предприниматель', 'студент', 'в декрете'],\n",
       "      dtype=object)"
      ]
     },
     "execution_count": 15,
     "metadata": {},
     "output_type": "execute_result"
    }
   ],
   "source": [
    "data['income_type'].unique()"
   ]
  },
  {
   "cell_type": "code",
   "execution_count": 16,
   "metadata": {},
   "outputs": [
    {
     "data": {
      "text/plain": [
       "0    19784\n",
       "1     1741\n",
       "Name: debt, dtype: int64"
      ]
     },
     "execution_count": 16,
     "metadata": {},
     "output_type": "execute_result"
    }
   ],
   "source": [
    "data['debt'].value_counts()"
   ]
  },
  {
   "cell_type": "code",
   "execution_count": 17,
   "metadata": {
    "scrolled": true
   },
   "outputs": [
    {
     "data": {
      "text/plain": [
       "array(['покупка жилья', 'приобретение автомобиля',\n",
       "       'дополнительное образование', 'сыграть свадьбу',\n",
       "       'операции с жильем', 'образование', 'на проведение свадьбы',\n",
       "       'покупка жилья для семьи', 'покупка недвижимости',\n",
       "       'покупка коммерческой недвижимости', 'покупка жилой недвижимости',\n",
       "       'строительство собственной недвижимости', 'недвижимость',\n",
       "       'строительство недвижимости', 'на покупку подержанного автомобиля',\n",
       "       'на покупку своего автомобиля',\n",
       "       'операции с коммерческой недвижимостью',\n",
       "       'строительство жилой недвижимости', 'жилье',\n",
       "       'операции со своей недвижимостью', 'автомобили',\n",
       "       'заняться образованием', 'сделка с подержанным автомобилем',\n",
       "       'получение образования', 'автомобиль', 'свадьба',\n",
       "       'получение дополнительного образования', 'покупка своего жилья',\n",
       "       'операции с недвижимостью', 'получение высшего образования',\n",
       "       'свой автомобиль', 'сделка с автомобилем',\n",
       "       'профильное образование', 'высшее образование',\n",
       "       'покупка жилья для сдачи', 'на покупку автомобиля', 'ремонт жилью',\n",
       "       'заняться высшим образованием'], dtype=object)"
      ]
     },
     "execution_count": 17,
     "metadata": {},
     "output_type": "execute_result"
    }
   ],
   "source": [
    "data['purpose'].unique()"
   ]
  },
  {
   "cell_type": "markdown",
   "metadata": {},
   "source": [
    "### 3.Выявились новые проблемы: <a id='100103'></a>\n",
    "* в столбце 'children' - явно неправильные значения это 20 и -1, явно случайные опечатки при введении, исправим на 2 и 1\n",
    "* в столбце 'dob-days' - значение 0, нужно выяснить почему и возможно удалить\n",
    "* в столбце 'gender' - выявился третий пол XNA ;), хоть это сейчас и популярно, будем считать это ошибкой, а так же заменим тип столбца на строковый\n",
    "\n",
    "### Начнём исправлять:"
   ]
  },
  {
   "cell_type": "code",
   "execution_count": 18,
   "metadata": {},
   "outputs": [],
   "source": [
    "#Изменим название колонки 'dob_days' на 'age' методом **set_axis**:\n",
    "new_names = (['children', 'days_employed', 'age', 'education', 'education_id', 'family_status', 'family_status_id', 'gender', 'income_type', 'debt', 'total_income', 'purpose'])"
   ]
  },
  {
   "cell_type": "code",
   "execution_count": 19,
   "metadata": {},
   "outputs": [],
   "source": [
    "data.set_axis(new_names, axis='columns', inplace=True)\n",
    "\n",
    "#проверим:\n",
    "#data.columns"
   ]
  },
  {
   "cell_type": "markdown",
   "metadata": {},
   "source": [
    "В некоторых ячейках 'age' неизвестен возраст клиентов (0) - найдем среднее и поставим средний возраст с помощью методов **median()** и **replace()**:"
   ]
  },
  {
   "cell_type": "code",
   "execution_count": 20,
   "metadata": {},
   "outputs": [],
   "source": [
    "data['age'] = data['age'].astype(str)\n",
    "data.loc[data['age'] == '0', 'age'] = data['age'].median()\n",
    "data['age'] = data['age'].astype(int)\n",
    "\n",
    "#проверим:\n",
    "#data['age'].unique()"
   ]
  },
  {
   "cell_type": "markdown",
   "metadata": {},
   "source": [
    "Изменим регистр в 'family-status' и 'education' применяя метод **str.lower()**:"
   ]
  },
  {
   "cell_type": "code",
   "execution_count": 21,
   "metadata": {},
   "outputs": [],
   "source": [
    "data['family_status'] = data['family_status'].str.lower()\n",
    "data['education'] = data['education'].str.lower()\n",
    "\n",
    "#проверим:\n",
    "#data['education'].unique()"
   ]
  },
  {
   "cell_type": "markdown",
   "metadata": {},
   "source": [
    "**Заметно уменьшилось количество уникальных значений, но нужно проверить соответствие id, т.к. колонки связаны**"
   ]
  },
  {
   "cell_type": "code",
   "execution_count": 22,
   "metadata": {},
   "outputs": [
    {
     "data": {
      "text/plain": [
       "education\n",
       "высшее                  5260\n",
       "начальное                282\n",
       "неоконченное высшее      744\n",
       "среднее                15233\n",
       "ученая степень             6\n",
       "Name: education, dtype: int64"
      ]
     },
     "execution_count": 22,
     "metadata": {},
     "output_type": "execute_result"
    }
   ],
   "source": [
    "data.groupby('education')['education'].count()"
   ]
  },
  {
   "cell_type": "code",
   "execution_count": 23,
   "metadata": {},
   "outputs": [
    {
     "data": {
      "text/plain": [
       "education_id\n",
       "0     5260\n",
       "1    15233\n",
       "2      744\n",
       "3      282\n",
       "4        6\n",
       "Name: education_id, dtype: int64"
      ]
     },
     "execution_count": 23,
     "metadata": {},
     "output_type": "execute_result"
    }
   ],
   "source": [
    "data.groupby('education_id')['education_id'].count()"
   ]
  },
  {
   "cell_type": "markdown",
   "metadata": {},
   "source": [
    "Из взгляда на таблицу понятно, какие значения каким ID соответствуют. Количество значений и Id тоже равны. Сделаем вывод, что при изменении столбца 'education' никаких ошибок не произошло."
   ]
  },
  {
   "cell_type": "code",
   "execution_count": 24,
   "metadata": {
    "scrolled": true
   },
   "outputs": [
    {
     "data": {
      "text/plain": [
       "array(['женат / замужем', 'гражданский брак', 'вдовец / вдова',\n",
       "       'в разводе', 'не женат / не замужем'], dtype=object)"
      ]
     },
     "execution_count": 24,
     "metadata": {},
     "output_type": "execute_result"
    }
   ],
   "source": [
    "data['family_status'].unique()"
   ]
  },
  {
   "cell_type": "markdown",
   "metadata": {},
   "source": [
    "здесь все по-прежнему, но в едином регистре, что удобно для дальнейших манипуляций."
   ]
  },
  {
   "cell_type": "markdown",
   "metadata": {},
   "source": [
    "* **'days_employed'** и **'total_income'** явно связаны, незаполненные строки в обоих столбцах соответствуют друг другу \n",
    "* (обратить внимание! что не заполнено около 10%) придется исключить их из анализа, т.к. эти значения понадобятся для ответа на поставленные вопросы, для этого воспользуемся методом **'dropna()'**\n",
    "* затем уберем минус, округлим числа и поменяем на целочисленный тип методами **astype(), replace(), round()**(для большей точности)"
   ]
  },
  {
   "cell_type": "code",
   "execution_count": 25,
   "metadata": {},
   "outputs": [],
   "source": [
    "data.dropna(subset = ['days_employed', 'total_income'], inplace=True)\n",
    "data = data.reset_index(drop=True)\n",
    "data['days_employed'] = data['days_employed'].astype(str)\n",
    "data['days_employed'] = data['days_employed'].replace('-', '', regex=True).astype(float).round(1)\n",
    "data['days_employed'] = data['days_employed'].astype(int)\n",
    "#data['days_employed'].head(30)"
   ]
  },
  {
   "cell_type": "markdown",
   "metadata": {},
   "source": [
    "* в столбце **'days_employed'** прослеживается явная аномалия (стаж в днях у человека не может быть такой величины), скорее всего сбой при выгрузке, не удалось проследить взаимосвязи между аномальными цифрами. Т.к. этот столбец не понадобится нам для ответы на поставленные вопросы оставим так, но **нужно обратить внимание!**."
   ]
  },
  {
   "cell_type": "code",
   "execution_count": 26,
   "metadata": {
    "scrolled": true
   },
   "outputs": [],
   "source": [
    "data['total_income'] = data['total_income'].round(1).astype(int)\n",
    "#data['total_income'].head(15)"
   ]
  },
  {
   "cell_type": "code",
   "execution_count": 27,
   "metadata": {
    "scrolled": true
   },
   "outputs": [],
   "source": [
    "#Заменим неправильные значения в столбце 'children':\n",
    "data['children'] = data['children'].astype(str)\n",
    "data['children'] = data['children'].replace('-1', '1', regex=True)\n",
    "data['children'] = data['children'].replace('20', '2', regex=True)\n",
    "#data['children'].value_counts()"
   ]
  },
  {
   "cell_type": "markdown",
   "metadata": {},
   "source": [
    "По суммам значений в столбцах, сразу понятно, что всё получилось :)\n",
    "\n",
    "Теперь нужно разобраться с полом, т.к. это всего одна ячейка, поставим любой из двух полов, т.к. в составе поставленных задач ни одной связанной с полом нет."
   ]
  },
  {
   "cell_type": "code",
   "execution_count": 28,
   "metadata": {},
   "outputs": [],
   "source": [
    "data['gender'] = data['gender'].astype(str)\n",
    "data['gender'] = data['gender'].replace('XNA', 'F', regex=True)\n",
    "#data['gender'].value_counts()"
   ]
  },
  {
   "cell_type": "markdown",
   "metadata": {},
   "source": [
    "### 4.Проведём стемминг столбца 'purpose', чтобы упорядочить названия целей кредита <a id='100104'></a>"
   ]
  },
  {
   "cell_type": "code",
   "execution_count": 29,
   "metadata": {},
   "outputs": [
    {
     "name": "stdout",
     "output_type": "stream",
     "text": [
      "Исходное слово - покупка жилья                           | после стемминга ----- покупка жил\n",
      "Исходное слово - приобретение автомобиля                 | после стемминга ----- приобретение автомобил\n",
      "Исходное слово - дополнительное образование              | после стемминга ----- дополнительное образован\n",
      "Исходное слово - сыграть свадьбу                         | после стемминга ----- сыграть свадьб\n",
      "Исходное слово - операции с жильем                       | после стемминга ----- операции с жил\n",
      "Исходное слово - образование                             | после стемминга ----- образован\n",
      "Исходное слово - на проведение свадьбы                   | после стемминга ----- на проведение свадьб\n",
      "Исходное слово - покупка жилья для семьи                 | после стемминга ----- покупка жилья для сем\n",
      "Исходное слово - покупка недвижимости                    | после стемминга ----- покупка недвижим\n",
      "Исходное слово - покупка коммерческой недвижимости       | после стемминга ----- покупка коммерческой недвижим\n",
      "Исходное слово - покупка жилой недвижимости              | после стемминга ----- покупка жилой недвижим\n",
      "Исходное слово - строительство собственной недвижимости  | после стемминга ----- строительство собственной недвижим\n",
      "Исходное слово - недвижимость                            | после стемминга ----- недвижим\n",
      "Исходное слово - строительство недвижимости              | после стемминга ----- строительство недвижим\n",
      "Исходное слово - на покупку подержанного автомобиля      | после стемминга ----- на покупку подержанного автомобил\n",
      "Исходное слово - на покупку своего автомобиля            | после стемминга ----- на покупку своего автомобил\n",
      "Исходное слово - операции с коммерческой недвижимостью   | после стемминга ----- операции с коммерческой недвижим\n",
      "Исходное слово - жилье                                   | после стемминга ----- жил\n",
      "Исходное слово - операции со своей недвижимостью         | после стемминга ----- операции со своей недвижим\n",
      "Исходное слово - автомобили                              | после стемминга ----- автомоб\n",
      "Исходное слово - заняться образованием                   | после стемминга ----- заняться образован\n",
      "Исходное слово - получение образования                   | после стемминга ----- получение образован\n",
      "Исходное слово - сделка с подержанным автомобилем        | после стемминга ----- сделка с подержанным автомобил\n",
      "Исходное слово - автомобиль                              | после стемминга ----- автомобил\n",
      "Исходное слово - свадьба                                 | после стемминга ----- свадьб\n",
      "Исходное слово - получение дополнительного образования   | после стемминга ----- получение дополнительного образован\n",
      "Исходное слово - покупка своего жилья                    | после стемминга ----- покупка своего жил\n",
      "Исходное слово - операции с недвижимостью                | после стемминга ----- операции с недвижим\n",
      "Исходное слово - получение высшего образования           | после стемминга ----- получение высшего образован\n",
      "Исходное слово - свой автомобиль                         | после стемминга ----- свой автомобил\n",
      "Исходное слово - сделка с автомобилем                    | после стемминга ----- сделка с автомобил\n",
      "Исходное слово - профильное образование                  | после стемминга ----- профильное образован\n",
      "Исходное слово - высшее образование                      | после стемминга ----- высшее образован\n",
      "Исходное слово - покупка жилья для сдачи                 | после стемминга ----- покупка жилья для сдач\n",
      "Исходное слово - на покупку автомобиля                   | после стемминга ----- на покупку автомобил\n",
      "Исходное слово - строительство жилой недвижимости        | после стемминга ----- строительство жилой недвижим\n",
      "Исходное слово - ремонт жилью                            | после стемминга ----- ремонт жил\n",
      "Исходное слово - заняться высшим образованием            | после стемминга ----- заняться высшим образован\n"
     ]
    }
   ],
   "source": [
    "purpose = data['purpose'].unique()\n",
    "russian_stemmer = SnowballStemmer('russian')\n",
    "for word in purpose:\n",
    "    print(('Исходное слово - {: <40}| ' 'после стемминга -----').format(word), russian_stemmer.stem(word))"
   ]
  },
  {
   "cell_type": "markdown",
   "metadata": {},
   "source": [
    "* Из указанных фраз можно выделить 5 основ - жил, образован, автомобил, свадьб, недвижим. Жилье и недвижимость по сути одно и то же, поэтому сведем их в колонке 'purpose' к одному слову - **недвижимость**, остальные к cловам: **образование, автомобиль, свадьба**. \n",
    "*************\n",
    "* Найдем список фраз, которые нужно заменить, по каждой основе:"
   ]
  },
  {
   "cell_type": "code",
   "execution_count": 30,
   "metadata": {},
   "outputs": [
    {
     "name": "stdout",
     "output_type": "stream",
     "text": [
      "покупка недвижимости\n",
      "покупка коммерческой недвижимости\n",
      "покупка жилой недвижимости\n",
      "строительство собственной недвижимости\n",
      "недвижимость\n",
      "строительство недвижимости\n",
      "операции с коммерческой недвижимостью\n",
      "операции со своей недвижимостью\n",
      "операции с недвижимостью\n",
      "строительство жилой недвижимости\n"
     ]
    }
   ],
   "source": [
    "for purp_ned in purpose:\n",
    "    stemmed_ned = russian_stemmer.stem(purp_ned)\n",
    "    for word in stemmed_ned.split(' '):\n",
    "        if word == 'недвижим':\n",
    "            print(purp_ned)"
   ]
  },
  {
   "cell_type": "code",
   "execution_count": 31,
   "metadata": {},
   "outputs": [
    {
     "name": "stdout",
     "output_type": "stream",
     "text": [
      "покупка жилья\n",
      "операции с жильем\n",
      "жилье\n",
      "покупка своего жилья\n",
      "ремонт жилью\n"
     ]
    }
   ],
   "source": [
    "for purp in purpose:\n",
    "    stemmed_gil = russian_stemmer.stem(purp)\n",
    "    for word in stemmed_gil.split(' '):\n",
    "        if word == 'жил':\n",
    "            print(purp)"
   ]
  },
  {
   "cell_type": "code",
   "execution_count": 32,
   "metadata": {},
   "outputs": [
    {
     "data": {
      "text/plain": [
       "0"
      ]
     },
     "execution_count": 32,
     "metadata": {},
     "output_type": "execute_result"
    }
   ],
   "source": [
    "def ned_purp(data, wrong):\n",
    "    data['purpose'] = data['purpose'].replace(wrong, 'недвижимость')\n",
    "    final = data[data['purpose'] == wrong]['purpose'].count()\n",
    "    return final\n",
    "ned_purp(data, 'покупка недвижимости')\n",
    "ned_purp(data, 'покупка коммерческой недвижимости')\n",
    "ned_purp(data, 'покупка жилой недвижимости')\n",
    "ned_purp(data, 'строительство собственной недвижимости')\n",
    "ned_purp(data, 'строительство недвижимости')\n",
    "ned_purp(data, 'операции с коммерческой недвижимостью')\n",
    "ned_purp(data, 'строительство жилой недвижимости')\n",
    "ned_purp(data, 'операции со своей недвижимостью')\n",
    "ned_purp(data, 'операции с недвижимостью')\n",
    "ned_purp(data, 'покупка жилья')\n",
    "ned_purp(data, 'операции с жильем')\n",
    "ned_purp(data, 'жилье')\n",
    "ned_purp(data, 'покупка своего жилья')\n",
    "ned_purp(data, 'ремонт жилью')"
   ]
  },
  {
   "cell_type": "code",
   "execution_count": 33,
   "metadata": {},
   "outputs": [
    {
     "name": "stdout",
     "output_type": "stream",
     "text": [
      "сыграть свадьбу\n",
      "на проведение свадьбы\n",
      "свадьба\n"
     ]
    }
   ],
   "source": [
    "for purp in purpose:\n",
    "    stemmed_svad = russian_stemmer.stem(purp)\n",
    "    for word in stemmed_svad.split(' '):\n",
    "        if word == 'свадьб':\n",
    "            print(purp)"
   ]
  },
  {
   "cell_type": "code",
   "execution_count": 34,
   "metadata": {},
   "outputs": [
    {
     "data": {
      "text/plain": [
       "0"
      ]
     },
     "execution_count": 34,
     "metadata": {},
     "output_type": "execute_result"
    }
   ],
   "source": [
    "def svad_purp(data, wrong):\n",
    "    data['purpose'] = data['purpose'].replace(wrong, 'свадьба')\n",
    "    final = data[data['purpose'] == wrong]['purpose'].count()\n",
    "    return final\n",
    "svad_purp(data, 'сыграть свадьбу')\n",
    "svad_purp(data, 'на проведение свадьбы')"
   ]
  },
  {
   "cell_type": "code",
   "execution_count": 35,
   "metadata": {},
   "outputs": [
    {
     "name": "stdout",
     "output_type": "stream",
     "text": [
      "приобретение автомобиля\n",
      "на покупку подержанного автомобиля\n",
      "на покупку своего автомобиля\n",
      "сделка с подержанным автомобилем\n",
      "автомобиль\n",
      "свой автомобиль\n",
      "сделка с автомобилем\n",
      "на покупку автомобиля\n"
     ]
    }
   ],
   "source": [
    "for purp in purpose:\n",
    "    stemmed_avto = russian_stemmer.stem(purp)\n",
    "    for word in stemmed_avto.split(' '):\n",
    "                if word == 'автомобил':\n",
    "                        print(purp)"
   ]
  },
  {
   "cell_type": "code",
   "execution_count": 36,
   "metadata": {},
   "outputs": [
    {
     "data": {
      "text/plain": [
       "0"
      ]
     },
     "execution_count": 36,
     "metadata": {},
     "output_type": "execute_result"
    }
   ],
   "source": [
    "def avto_purp(data, wrong):\n",
    "    data['purpose'] = data['purpose'].replace(wrong, 'автомобиль')\n",
    "    final = data[data['purpose'] == wrong]['purpose'].count()\n",
    "    return final\n",
    "avto_purp(data, 'приобретение автомобиля')\n",
    "avto_purp(data, 'на покупку подержанного автомобиля')\n",
    "avto_purp(data, 'на покупку своего автомобиля')\n",
    "avto_purp(data, 'сделка с подержанным автомобилем')\n",
    "avto_purp(data, 'свой автомобиль')\n",
    "avto_purp(data, 'сделка с автомобилем')\n",
    "avto_purp(data, 'на покупку автомобиля')"
   ]
  },
  {
   "cell_type": "code",
   "execution_count": 37,
   "metadata": {},
   "outputs": [
    {
     "name": "stdout",
     "output_type": "stream",
     "text": [
      "дополнительное образование\n",
      "образование\n",
      "заняться образованием\n",
      "получение образования\n",
      "получение дополнительного образования\n",
      "получение высшего образования\n",
      "профильное образование\n",
      "высшее образование\n",
      "заняться высшим образованием\n"
     ]
    }
   ],
   "source": [
    "for purp in purpose:\n",
    "    stemmed_obr = russian_stemmer.stem(purp)\n",
    "    for word in stemmed_obr.split(' '):\n",
    "        if word == 'образован':\n",
    "            print(purp)"
   ]
  },
  {
   "cell_type": "code",
   "execution_count": 38,
   "metadata": {},
   "outputs": [
    {
     "data": {
      "text/plain": [
       "0"
      ]
     },
     "execution_count": 38,
     "metadata": {},
     "output_type": "execute_result"
    }
   ],
   "source": [
    "def obr_purp(data, wrong):\n",
    "    data['purpose'] = data['purpose'].replace(wrong, 'образование')\n",
    "    final = data[data['purpose'] == wrong]['purpose'].count()\n",
    "    return final\n",
    "obr_purp(data, 'дополнительное образование')\n",
    "obr_purp(data, 'заняться образованием')\n",
    "obr_purp(data, 'получение образования')\n",
    "obr_purp(data, 'получение дополнительного образования')\n",
    "obr_purp(data, 'получение высшего образования')\n",
    "obr_purp(data, 'профильное образование')\n",
    "obr_purp(data, 'высшее образование')\n",
    "obr_purp(data, 'заняться высшим образованием')"
   ]
  },
  {
   "cell_type": "code",
   "execution_count": 39,
   "metadata": {},
   "outputs": [
    {
     "data": {
      "text/plain": [
       "array(['недвижимость', 'автомобиль', 'образование', 'свадьба',\n",
       "       'покупка жилья для семьи', 'автомобили', 'покупка жилья для сдачи'],\n",
       "      dtype=object)"
      ]
     },
     "execution_count": 39,
     "metadata": {},
     "output_type": "execute_result"
    }
   ],
   "source": [
    "data['purpose'].unique()"
   ]
  },
  {
   "cell_type": "markdown",
   "metadata": {},
   "source": [
    "3 значения (автомобили, покупка жилья для семьи и покупка жилья для сдачи) не попали в списки, распределим по категориям:"
   ]
  },
  {
   "cell_type": "code",
   "execution_count": 40,
   "metadata": {},
   "outputs": [
    {
     "data": {
      "text/plain": [
       "0"
      ]
     },
     "execution_count": 40,
     "metadata": {},
     "output_type": "execute_result"
    }
   ],
   "source": [
    "avto_purp(data, 'автомобили')\n",
    "ned_purp(data, 'покупка жилья для семьи')\n",
    "ned_purp(data, 'покупка жилья для сдачи')"
   ]
  },
  {
   "cell_type": "markdown",
   "metadata": {},
   "source": [
    "Проверим уникальные значения столбца **'purpose'**:"
   ]
  },
  {
   "cell_type": "code",
   "execution_count": 41,
   "metadata": {
    "scrolled": false
   },
   "outputs": [
    {
     "data": {
      "text/plain": [
       "array(['недвижимость', 'автомобиль', 'образование', 'свадьба'],\n",
       "      dtype=object)"
      ]
     },
     "execution_count": 41,
     "metadata": {},
     "output_type": "execute_result"
    }
   ],
   "source": [
    "data['purpose'].unique()"
   ]
  },
  {
   "cell_type": "markdown",
   "metadata": {},
   "source": [
    "* Для ответов на поставленные вопросы нам нужны столбцы **'children', 'family_status', 'total_income', 'debt'** \n",
    "* составим отдельную таблицу:"
   ]
  },
  {
   "cell_type": "code",
   "execution_count": 42,
   "metadata": {
    "scrolled": true
   },
   "outputs": [
    {
     "data": {
      "text/html": [
       "<div>\n",
       "<style scoped>\n",
       "    .dataframe tbody tr th:only-of-type {\n",
       "        vertical-align: middle;\n",
       "    }\n",
       "\n",
       "    .dataframe tbody tr th {\n",
       "        vertical-align: top;\n",
       "    }\n",
       "\n",
       "    .dataframe thead th {\n",
       "        text-align: right;\n",
       "    }\n",
       "</style>\n",
       "<table border=\"1\" class=\"dataframe\">\n",
       "  <thead>\n",
       "    <tr style=\"text-align: right;\">\n",
       "      <th></th>\n",
       "      <th>children</th>\n",
       "      <th>family_status</th>\n",
       "      <th>total_income</th>\n",
       "      <th>debt</th>\n",
       "    </tr>\n",
       "  </thead>\n",
       "  <tbody>\n",
       "    <tr>\n",
       "      <th>0</th>\n",
       "      <td>1</td>\n",
       "      <td>женат / замужем</td>\n",
       "      <td>253875</td>\n",
       "      <td>0</td>\n",
       "    </tr>\n",
       "    <tr>\n",
       "      <th>1</th>\n",
       "      <td>1</td>\n",
       "      <td>женат / замужем</td>\n",
       "      <td>112080</td>\n",
       "      <td>0</td>\n",
       "    </tr>\n",
       "    <tr>\n",
       "      <th>2</th>\n",
       "      <td>0</td>\n",
       "      <td>женат / замужем</td>\n",
       "      <td>145886</td>\n",
       "      <td>0</td>\n",
       "    </tr>\n",
       "    <tr>\n",
       "      <th>3</th>\n",
       "      <td>3</td>\n",
       "      <td>женат / замужем</td>\n",
       "      <td>267628</td>\n",
       "      <td>0</td>\n",
       "    </tr>\n",
       "    <tr>\n",
       "      <th>4</th>\n",
       "      <td>0</td>\n",
       "      <td>гражданский брак</td>\n",
       "      <td>158616</td>\n",
       "      <td>0</td>\n",
       "    </tr>\n",
       "    <tr>\n",
       "      <th>5</th>\n",
       "      <td>0</td>\n",
       "      <td>гражданский брак</td>\n",
       "      <td>255763</td>\n",
       "      <td>0</td>\n",
       "    </tr>\n",
       "    <tr>\n",
       "      <th>6</th>\n",
       "      <td>0</td>\n",
       "      <td>женат / замужем</td>\n",
       "      <td>240526</td>\n",
       "      <td>0</td>\n",
       "    </tr>\n",
       "    <tr>\n",
       "      <th>7</th>\n",
       "      <td>0</td>\n",
       "      <td>женат / замужем</td>\n",
       "      <td>135823</td>\n",
       "      <td>0</td>\n",
       "    </tr>\n",
       "    <tr>\n",
       "      <th>8</th>\n",
       "      <td>2</td>\n",
       "      <td>гражданский брак</td>\n",
       "      <td>95856</td>\n",
       "      <td>0</td>\n",
       "    </tr>\n",
       "    <tr>\n",
       "      <th>9</th>\n",
       "      <td>0</td>\n",
       "      <td>женат / замужем</td>\n",
       "      <td>144425</td>\n",
       "      <td>0</td>\n",
       "    </tr>\n",
       "    <tr>\n",
       "      <th>10</th>\n",
       "      <td>2</td>\n",
       "      <td>женат / замужем</td>\n",
       "      <td>113943</td>\n",
       "      <td>0</td>\n",
       "    </tr>\n",
       "    <tr>\n",
       "      <th>11</th>\n",
       "      <td>0</td>\n",
       "      <td>женат / замужем</td>\n",
       "      <td>77069</td>\n",
       "      <td>0</td>\n",
       "    </tr>\n",
       "    <tr>\n",
       "      <th>12</th>\n",
       "      <td>0</td>\n",
       "      <td>женат / замужем</td>\n",
       "      <td>130458</td>\n",
       "      <td>0</td>\n",
       "    </tr>\n",
       "    <tr>\n",
       "      <th>13</th>\n",
       "      <td>0</td>\n",
       "      <td>гражданский брак</td>\n",
       "      <td>165127</td>\n",
       "      <td>1</td>\n",
       "    </tr>\n",
       "    <tr>\n",
       "      <th>14</th>\n",
       "      <td>1</td>\n",
       "      <td>женат / замужем</td>\n",
       "      <td>116820</td>\n",
       "      <td>0</td>\n",
       "    </tr>\n",
       "  </tbody>\n",
       "</table>\n",
       "</div>"
      ],
      "text/plain": [
       "   children     family_status  total_income  debt\n",
       "0         1   женат / замужем        253875     0\n",
       "1         1   женат / замужем        112080     0\n",
       "2         0   женат / замужем        145886     0\n",
       "3         3   женат / замужем        267628     0\n",
       "4         0  гражданский брак        158616     0\n",
       "5         0  гражданский брак        255763     0\n",
       "6         0   женат / замужем        240526     0\n",
       "7         0   женат / замужем        135823     0\n",
       "8         2  гражданский брак         95856     0\n",
       "9         0   женат / замужем        144425     0\n",
       "10        2   женат / замужем        113943     0\n",
       "11        0   женат / замужем         77069     0\n",
       "12        0   женат / замужем        130458     0\n",
       "13        0  гражданский брак        165127     1\n",
       "14        1   женат / замужем        116820     0"
      ]
     },
     "execution_count": 42,
     "metadata": {},
     "output_type": "execute_result"
    }
   ],
   "source": [
    "data_grouped = data[['children', 'family_status', 'total_income', 'debt']]\n",
    "data_grouped.head(15)"
   ]
  },
  {
   "cell_type": "markdown",
   "metadata": {},
   "source": [
    "### 5.Посмотрим на задолженность у клиентов с разным количеством детей: <a id='100105'></a>"
   ]
  },
  {
   "cell_type": "code",
   "execution_count": 43,
   "metadata": {},
   "outputs": [
    {
     "data": {
      "text/plain": [
       "children\n",
       "0    952\n",
       "1    409\n",
       "2    185\n",
       "3     22\n",
       "4      3\n",
       "5      0\n",
       "Name: debt, dtype: int64"
      ]
     },
     "execution_count": 43,
     "metadata": {},
     "output_type": "execute_result"
    }
   ],
   "source": [
    "group_child = data_grouped.groupby('children')['debt'].sum().sort_values(ascending=False)\n",
    "group_child"
   ]
  },
  {
   "cell_type": "code",
   "execution_count": 44,
   "metadata": {},
   "outputs": [
    {
     "data": {
      "text/plain": [
       "1.5379644588045234"
      ]
     },
     "execution_count": 44,
     "metadata": {},
     "output_type": "execute_result"
    }
   ],
   "source": [
    "ratio_debt_child = 952 / (409 + 185 + 22 + 3)\n",
    "ratio_debt_child"
   ]
  },
  {
   "cell_type": "code",
   "execution_count": 45,
   "metadata": {},
   "outputs": [
    {
     "data": {
      "text/plain": [
       "children\n",
       "0    12710\n",
       "1     4387\n",
       "2     1918\n",
       "3      294\n",
       "4       34\n",
       "5        8\n",
       "Name: debt, dtype: int64"
      ]
     },
     "execution_count": 45,
     "metadata": {},
     "output_type": "execute_result"
    }
   ],
   "source": [
    "data.groupby('children')['debt'].count().sort_values(ascending=False)"
   ]
  },
  {
   "cell_type": "code",
   "execution_count": 46,
   "metadata": {},
   "outputs": [
    {
     "data": {
      "text/plain": [
       "1.91386839331426"
      ]
     },
     "execution_count": 46,
     "metadata": {},
     "output_type": "execute_result"
    }
   ],
   "source": [
    "ratio_children = 12710 / (4387 + 1918 + 294 + 34 + 8)\n",
    "ratio_children"
   ]
  },
  {
   "cell_type": "markdown",
   "metadata": {},
   "source": [
    "* Из этой таблицы уже понятно, что у людей с 5 детьми задолженностей по кредиту нет вообще, а процент бездетных среди должников самый большой. Сравнивать эти две категории, конечно, не совсем корректно(общее соотношение бездетных/детных без долга почти 2 к 1), но и если сложить всех должников без детей, то их всё равно в 1,5 раза больше чем должников с детьми."
   ]
  },
  {
   "cell_type": "markdown",
   "metadata": {},
   "source": [
    "### 6.Посмотрим на задолженность клиентов в зависимости от их семейного статуса: <a id='100106'></a>"
   ]
  },
  {
   "cell_type": "code",
   "execution_count": 47,
   "metadata": {
    "scrolled": false
   },
   "outputs": [
    {
     "data": {
      "text/plain": [
       "family_status\n",
       "женат / замужем          846\n",
       "гражданский брак         339\n",
       "не женат / не замужем    254\n",
       "в разводе                 76\n",
       "вдовец / вдова            56\n",
       "Name: debt, dtype: int64"
      ]
     },
     "execution_count": 47,
     "metadata": {},
     "output_type": "execute_result"
    }
   ],
   "source": [
    "group_family_stat = data_grouped.groupby('family_status')['debt'].sum().sort_values(ascending=False)\n",
    "group_family_stat"
   ]
  },
  {
   "cell_type": "code",
   "execution_count": 48,
   "metadata": {},
   "outputs": [
    {
     "data": {
      "text/plain": [
       "3.069948186528497"
      ]
     },
     "execution_count": 48,
     "metadata": {},
     "output_type": "execute_result"
    }
   ],
   "source": [
    "ratio_group_family = (846+339)/(254+76+56)\n",
    "ratio_group_family"
   ]
  },
  {
   "cell_type": "code",
   "execution_count": 49,
   "metadata": {},
   "outputs": [
    {
     "data": {
      "text/plain": [
       "family_status\n",
       "женат / замужем          11143\n",
       "гражданский брак          3735\n",
       "не женат / не замужем     2525\n",
       "в разводе                 1083\n",
       "вдовец / вдова             865\n",
       "Name: debt, dtype: int64"
      ]
     },
     "execution_count": 49,
     "metadata": {},
     "output_type": "execute_result"
    }
   ],
   "source": [
    "data.groupby('family_status')['debt'].count().sort_values(ascending=False)"
   ]
  },
  {
   "cell_type": "code",
   "execution_count": 50,
   "metadata": {},
   "outputs": [
    {
     "data": {
      "text/plain": [
       "3.326179298010284"
      ]
     },
     "execution_count": 50,
     "metadata": {},
     "output_type": "execute_result"
    }
   ],
   "source": [
    "ratio_family = (11143+3735)/(2525+1083+865)\n",
    "ratio_family"
   ]
  },
  {
   "cell_type": "markdown",
   "metadata": {},
   "source": [
    "Здесь так же явно видна зависисмость между задолженностью и браком. Люди находящиеся в браке + считающие себя в браке практически в 3 раза чаще создают задолженности по кредиту, чем свободные. При этом общее соотношение практически такое же."
   ]
  },
  {
   "cell_type": "code",
   "execution_count": 51,
   "metadata": {},
   "outputs": [
    {
     "name": "stdout",
     "output_type": "stream",
     "text": [
      "MEAN -  167421.8523073743\n",
      "MEDIAN -  145017.0\n",
      "MAX -  2265604\n",
      "MIN -  20667\n",
      "\n",
      "\n",
      "count      19351\n",
      "mean      167421\n",
      "std       102971\n",
      "min        20667\n",
      "25%       103053\n",
      "50%       145017\n",
      "75%       203435\n",
      "max      2265604\n",
      "Name: total_income, dtype: int32\n"
     ]
    }
   ],
   "source": [
    "group_income = data_grouped['total_income']\n",
    "\n",
    "print('MEAN - ', group_income.mean())\n",
    "print('MEDIAN - ', group_income.median())\n",
    "print('MAX - ', group_income.max())\n",
    "print('MIN - ', group_income.min())\n",
    "print()\n",
    "print()\n",
    "\n",
    "# также эти значения можно найти методом **describe()**\n",
    "group_income = group_income.describe().astype(int)\n",
    "print(group_income)"
   ]
  },
  {
   "cell_type": "markdown",
   "metadata": {},
   "source": [
    "### 7. Сформируем группы по доходам: <a id='100107'></a>"
   ]
  },
  {
   "cell_type": "code",
   "execution_count": 52,
   "metadata": {},
   "outputs": [
    {
     "data": {
      "text/html": [
       "<div>\n",
       "<style scoped>\n",
       "    .dataframe tbody tr th:only-of-type {\n",
       "        vertical-align: middle;\n",
       "    }\n",
       "\n",
       "    .dataframe tbody tr th {\n",
       "        vertical-align: top;\n",
       "    }\n",
       "\n",
       "    .dataframe thead th {\n",
       "        text-align: right;\n",
       "    }\n",
       "</style>\n",
       "<table border=\"1\" class=\"dataframe\">\n",
       "  <thead>\n",
       "    <tr style=\"text-align: right;\">\n",
       "      <th></th>\n",
       "      <th>children</th>\n",
       "      <th>days_employed</th>\n",
       "      <th>age</th>\n",
       "      <th>education</th>\n",
       "      <th>education_id</th>\n",
       "      <th>family_status</th>\n",
       "      <th>family_status_id</th>\n",
       "      <th>gender</th>\n",
       "      <th>income_type</th>\n",
       "      <th>debt</th>\n",
       "      <th>total_income</th>\n",
       "      <th>purpose</th>\n",
       "      <th>c_income</th>\n",
       "    </tr>\n",
       "  </thead>\n",
       "  <tbody>\n",
       "    <tr>\n",
       "      <th>0</th>\n",
       "      <td>1</td>\n",
       "      <td>8437</td>\n",
       "      <td>42</td>\n",
       "      <td>высшее</td>\n",
       "      <td>0</td>\n",
       "      <td>женат / замужем</td>\n",
       "      <td>0</td>\n",
       "      <td>F</td>\n",
       "      <td>сотрудник</td>\n",
       "      <td>0</td>\n",
       "      <td>253875</td>\n",
       "      <td>недвижимость</td>\n",
       "      <td>высокий</td>\n",
       "    </tr>\n",
       "    <tr>\n",
       "      <th>1</th>\n",
       "      <td>1</td>\n",
       "      <td>4024</td>\n",
       "      <td>36</td>\n",
       "      <td>среднее</td>\n",
       "      <td>1</td>\n",
       "      <td>женат / замужем</td>\n",
       "      <td>0</td>\n",
       "      <td>F</td>\n",
       "      <td>сотрудник</td>\n",
       "      <td>0</td>\n",
       "      <td>112080</td>\n",
       "      <td>автомобиль</td>\n",
       "      <td>низкий</td>\n",
       "    </tr>\n",
       "    <tr>\n",
       "      <th>2</th>\n",
       "      <td>0</td>\n",
       "      <td>5623</td>\n",
       "      <td>33</td>\n",
       "      <td>среднее</td>\n",
       "      <td>1</td>\n",
       "      <td>женат / замужем</td>\n",
       "      <td>0</td>\n",
       "      <td>M</td>\n",
       "      <td>сотрудник</td>\n",
       "      <td>0</td>\n",
       "      <td>145886</td>\n",
       "      <td>недвижимость</td>\n",
       "      <td>средний</td>\n",
       "    </tr>\n",
       "    <tr>\n",
       "      <th>3</th>\n",
       "      <td>3</td>\n",
       "      <td>4124</td>\n",
       "      <td>32</td>\n",
       "      <td>среднее</td>\n",
       "      <td>1</td>\n",
       "      <td>женат / замужем</td>\n",
       "      <td>0</td>\n",
       "      <td>M</td>\n",
       "      <td>сотрудник</td>\n",
       "      <td>0</td>\n",
       "      <td>267628</td>\n",
       "      <td>образование</td>\n",
       "      <td>высокий</td>\n",
       "    </tr>\n",
       "    <tr>\n",
       "      <th>4</th>\n",
       "      <td>0</td>\n",
       "      <td>340266</td>\n",
       "      <td>53</td>\n",
       "      <td>среднее</td>\n",
       "      <td>1</td>\n",
       "      <td>гражданский брак</td>\n",
       "      <td>1</td>\n",
       "      <td>F</td>\n",
       "      <td>пенсионер</td>\n",
       "      <td>0</td>\n",
       "      <td>158616</td>\n",
       "      <td>свадьба</td>\n",
       "      <td>средний</td>\n",
       "    </tr>\n",
       "  </tbody>\n",
       "</table>\n",
       "</div>"
      ],
      "text/plain": [
       "  children  days_employed  age education  education_id     family_status  family_status_id gender income_type  debt  total_income       purpose c_income\n",
       "0        1           8437   42    высшее             0   женат / замужем                 0      F   сотрудник     0        253875  недвижимость  высокий\n",
       "1        1           4024   36   среднее             1   женат / замужем                 0      F   сотрудник     0        112080    автомобиль   низкий\n",
       "2        0           5623   33   среднее             1   женат / замужем                 0      M   сотрудник     0        145886  недвижимость  средний\n",
       "3        3           4124   32   среднее             1   женат / замужем                 0      M   сотрудник     0        267628   образование  высокий\n",
       "4        0         340266   53   среднее             1  гражданский брак                 1      F   пенсионер     0        158616       свадьба  средний"
      ]
     },
     "execution_count": 52,
     "metadata": {},
     "output_type": "execute_result"
    }
   ],
   "source": [
    "data['total_income'].astype(str)\n",
    "\n",
    "def c_income(income):\n",
    "    if income <= 130000:\n",
    "        return 'низкий'\n",
    "    elif income <= 250000:\n",
    "        return 'средний'\n",
    "    elif income <= 500000:\n",
    "        return 'высокий'\n",
    "    elif income <= 1000000:\n",
    "        return 'очень высокий'\n",
    "    return 'крайне высокий'\n",
    "\n",
    "data['c_income'] = data['total_income'].apply(c_income)\n",
    "data.head()"
   ]
  },
  {
   "cell_type": "markdown",
   "metadata": {},
   "source": [
    "Посчитаем количество групп:"
   ]
  },
  {
   "cell_type": "code",
   "execution_count": 53,
   "metadata": {},
   "outputs": [
    {
     "data": {
      "text/plain": [
       "средний           8596\n",
       "низкий            7943\n",
       "высокий           2590\n",
       "очень высокий      197\n",
       "крайне высокий      25\n",
       "Name: c_income, dtype: int64"
      ]
     },
     "execution_count": 53,
     "metadata": {},
     "output_type": "execute_result"
    }
   ],
   "source": [
    "data['c_income'].value_counts(ascending=False)"
   ]
  },
  {
   "cell_type": "markdown",
   "metadata": {},
   "source": [
    "Общее количество людей с низким и средним доходом к людям с высокими доходами практически 6 к 1:"
   ]
  },
  {
   "cell_type": "code",
   "execution_count": 54,
   "metadata": {},
   "outputs": [
    {
     "data": {
      "text/plain": [
       "5.881578947368421"
      ]
     },
     "execution_count": 54,
     "metadata": {},
     "output_type": "execute_result"
    }
   ],
   "source": [
    "ratio_income = (8596+7943)/(2590+197+25)\n",
    "ratio_income"
   ]
  },
  {
   "cell_type": "markdown",
   "metadata": {},
   "source": [
    "### 8.Проследим зависимости от трех факторов - детей, семейного положения, доходов:  <a id='100108'></a>"
   ]
  },
  {
   "cell_type": "code",
   "execution_count": 55,
   "metadata": {},
   "outputs": [
    {
     "data": {
      "text/plain": [
       "НЕТ ДОЛГА              17780\n",
       "долг если нет детей      952\n",
       "долг если 1 ребенок      409\n",
       "долг если 2 детей        185\n",
       "долг если 3 детей         22\n",
       "долг если 4 детей          3\n",
       "Name: debt_children, dtype: int64"
      ]
     },
     "execution_count": 55,
     "metadata": {},
     "output_type": "execute_result"
    }
   ],
   "source": [
    "def addiction_children_debt(row):\n",
    "    children = row['children']\n",
    "    debt = row['debt']\n",
    "    if children == '0':\n",
    "        if debt == 1:\n",
    "            return 'долг если нет детей'\n",
    "    if children == '1':\n",
    "        if debt == 1:\n",
    "            return 'долг если 1 ребенок'\n",
    "    if children == '2':\n",
    "        if debt == 1:\n",
    "            return 'долг если 2 детей'\n",
    "    if children == '3':\n",
    "        if debt == 1:\n",
    "            return 'долг если 3 детей'\n",
    "    if children == '4':\n",
    "        if debt == 1:\n",
    "            return 'долг если 4 детей'\n",
    "    if children == '5':\n",
    "        if debt == 1:\n",
    "            return 'долг если 5 детей'\n",
    "    return 'НЕТ ДОЛГА'\n",
    "data['debt_children'] = data.apply(addiction_children_debt, axis=1)\n",
    "data['debt_children'].value_counts(ascending=False)"
   ]
  },
  {
   "cell_type": "code",
   "execution_count": 56,
   "metadata": {},
   "outputs": [
    {
     "data": {
      "text/plain": [
       "НЕТ ДОЛГА                     17780\n",
       "долг если официальный брак      846\n",
       "долг если гражданский брак      339\n",
       "долг если нет семьи             254\n",
       "долг если в разводе              76\n",
       "долг если вдовец / вдова         56\n",
       "Name: debt_family_status, dtype: int64"
      ]
     },
     "execution_count": 56,
     "metadata": {},
     "output_type": "execute_result"
    }
   ],
   "source": [
    "def addiction_famstat_debt(row):\n",
    "    family = row['family_status']\n",
    "    debt = row['debt']\n",
    "    if family == 'женат / замужем':\n",
    "        if debt == 1:\n",
    "            return 'долг если официальный брак'\n",
    "    if family == 'гражданский брак':\n",
    "        if debt == 1:\n",
    "            return 'долг если гражданский брак'\n",
    "    if family == 'не женат / не замужем':\n",
    "        if debt == 1:\n",
    "            return 'долг если нет семьи'\n",
    "    if family == 'в разводе':\n",
    "        if debt == 1:\n",
    "            return 'долг если в разводе'\n",
    "    if family == 'вдовец / вдова':\n",
    "        if debt == 1:\n",
    "            return 'долг если вдовец / вдова'\n",
    "    return 'НЕТ ДОЛГА'\n",
    "data['debt_family_status'] = data.apply(addiction_famstat_debt, axis=1)\n",
    "data['debt_family_status'].value_counts(ascending=False)"
   ]
  },
  {
   "cell_type": "code",
   "execution_count": 57,
   "metadata": {},
   "outputs": [
    {
     "data": {
      "text/plain": [
       "НЕТ ДОЛГА                         17780\n",
       "долг при среднем доходе             730\n",
       "долг при низком доходе              647\n",
       "долг при высоком                    180\n",
       "долг при очень высоком доходе        12\n",
       "долг при крайне высоком доходе        2\n",
       "Name: debt_income, dtype: int64"
      ]
     },
     "execution_count": 57,
     "metadata": {},
     "output_type": "execute_result"
    }
   ],
   "source": [
    "def addiction_income_debt(row):\n",
    "    income = row['c_income']\n",
    "    debt = row['debt']\n",
    "    if income == 'крайне высокий':\n",
    "        if debt == 1:\n",
    "            return 'долг при крайне высоком доходе'\n",
    "    if income == 'очень высокий':\n",
    "        if debt == 1:\n",
    "            return 'долг при очень высоком доходе'\n",
    "    if income == 'высокий':\n",
    "        if debt == 1:\n",
    "            return 'долг при высоком'\n",
    "    if income == 'средний':\n",
    "        if debt == 1:\n",
    "            return 'долг при среднем доходе'\n",
    "    if income == 'низкий':\n",
    "        if debt == 1:\n",
    "            return 'долг при низком доходе'\n",
    "    return 'НЕТ ДОЛГА'\n",
    "data['debt_income'] = data.apply(addiction_income_debt, axis=1)\n",
    "data['debt_income'].value_counts(ascending=False)"
   ]
  },
  {
   "cell_type": "markdown",
   "metadata": {},
   "source": [
    "* Меньше всего долгов по кредиту у категорий с высокими доходами, а больше всего со низкими и средними доходами. Эти категории в таблице имеют соотношение 6 к 1.\n",
    "**********\n",
    "* Посмотрим какое соотношение у клиентов с долгами:"
   ]
  },
  {
   "cell_type": "code",
   "execution_count": 58,
   "metadata": {
    "scrolled": true
   },
   "outputs": [
    {
     "data": {
      "text/plain": [
       "7.097938144329897"
      ]
     },
     "execution_count": 58,
     "metadata": {},
     "output_type": "execute_result"
    }
   ],
   "source": [
    "ratio_debt_income = (730+647)/(180+12+2)\n",
    "ratio_debt_income"
   ]
  },
  {
   "cell_type": "markdown",
   "metadata": {},
   "source": [
    "### Выводы: <a id='100109'></a>"
   ]
  },
  {
   "cell_type": "markdown",
   "metadata": {},
   "source": [
    "В полученных данных были обнаружены *отрицательные значения, пропуски, нулевые значения, различные регистры в ячейках*, а так же явно *неправильные значения*, как полностью случайные так и просто случайные. *Нет единообразия* в заполнении колонки с целями кредита.\n",
    "\n",
    "**Причиной** этого скорее всего является небрежность заполнения и отстутствие четкой инструкции по заполнению таблицы.\n",
    "\n",
    "Обращает на себя внимание **неслучайная** аномалия в столбце со стажем работы клиента, возможно это произошло в результате выгрузки или какого-либо программного сбоя, т.к. единого признака не удалось увидеть, иногда это двойные числа, возможно у кого-то кнопки на клавиатуре западают, в результате обедов над ней ;)) \n",
    "\n",
    "Нулевые значения в колонках \"days_employed\"  и \"total_income\" оказались связаны, строки с созависимыми пропусками пришлось удалить, т.к. это не позволяло сделать адекватный анализ данных, а это 10% от списка! **Нужно обратить внимание!**\n",
    "\n",
    "Нулевые значения в колонке возраст были заменены на средний возраст, т.к. значение этой колонки не было принципиально важным, но на изначальное заполнение так же **нужно обратить внимание!**\n",
    "\n",
    "Отрицательные и неправильные значения были изменены напрямую ввиду явной случайности при заполнении.\n",
    "\n",
    "Для использования методов замены некоторых значений необходимо было изменение типа столбцов, для этого использовался метод **astype()**, т.к. нужны были локальные изменения, а для них этот метод оказался более подходящим.\n",
    "\n",
    "Так же был проведен стемминг целей кредита, т.к. словосочетаний было немного и низкая \"аккуратность\" в этом случае не имела значения. Этот метод показался более удобным и быстрым именно в этом случае. \n",
    "\n",
    "Было выделено 4 цели кредита: \n",
    "* жилье + недвижимость были объединены в \"недвижимость\", т.к. в данном случае их разделение было не важным для анализа, \n",
    "а так же еще 3 категории \n",
    "* \"автомобиль\", \"свадьба\" и \"образование\" как цели кредита. \n",
    "Короткие слова вполне отражают суть словосочетаний.\n"
   ]
  },
  {
   "cell_type": "markdown",
   "metadata": {},
   "source": [
    "* прослеживается зависимость между тем имеет ли клиент детей или нет и тем имеет ли он при этом задолженность по кредиту - клиентов с долгом и без детей больше на 34%, по отношению к тем у кого есть дети. При этом количество детей так же влияет на количество задолженностей! Этот вывод (с небольшим отклонением) подтверждает и соотношение общего количества клиентов с детьми/без детей(35%/65%) и клиентов с задолженностью (с детьми30%/без детей60%);\n",
    "* (если рассматривать 2 группы: официальный + гражданский брак и нет семьи + в разводе + вдовец/вдова) то прослеживается взаимосвязь - клиентов без семьи с задолженностью на 51% меньше, чем клиентов имеющих семью. Это подтверждает и соотношение общего количества клиентов - с семьей и без семьи (77%/23%), а с задолженностью (с семьей и без (76%/24%)).\n",
    "* (если рассматривать 2 группы клиентов по доходам: низкий + средний доход и высокий + очень высокий + крайне высокий доходы) то прослеживается взаимосвязь - клиентов с низким и средним доходом с задолженностью на 75% больше, чем клиентов с высоким, очень и крайне высоким доходом. Это подтверждает и соотношение общего количества клиентов - низкий+средний и высокий+очень+крайне высокий (86%/14%), а с задолженностью (низкий+средний и высокий+очень+крайне высокий (88%/12%)).\n",
    "\n",
    "Из этого анализа можно сделать вывод, что клиент с высоким риском задолженности - это человек с низким или средним доходом состоящий в официальном/неофициальном браке и не имеющий детей."
   ]
  },
  {
   "cell_type": "code",
   "execution_count": null,
   "metadata": {},
   "outputs": [],
   "source": []
  }
 ],
 "metadata": {
  "kernelspec": {
   "display_name": "Python 3",
   "language": "python",
   "name": "python3"
  },
  "language_info": {
   "codemirror_mode": {
    "name": "ipython",
    "version": 3
   },
   "file_extension": ".py",
   "mimetype": "text/x-python",
   "name": "python",
   "nbconvert_exporter": "python",
   "pygments_lexer": "ipython3",
   "version": "3.7.3"
  }
 },
 "nbformat": 4,
 "nbformat_minor": 2
}
