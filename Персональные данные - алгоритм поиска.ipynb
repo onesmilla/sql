{
 "cells": [
  {
   "cell_type": "markdown",
   "id": "fb737db7-72f0-4674-95fa-c66b893ece89",
   "metadata": {},
   "source": [
    "* Для решения задачи по поиску перс. данных предпочла бы максимально автоматизировать процесс в одном скрипте, или можно первый анализ сделать в отдельном файле.\n",
    "* Далее буду исходить, исключая биометри, из буквенно-численных ПД (персональных данных) - таких как фамилия имя отчество, телефон, адрес, СНИЛС, ИНН, паспортные данные, электронная почта, дата рождения, место рождения.\n",
    "* Примерные источники в ЕХД (единое хранилище данных):\n",
    "- файлы: fail1.csv, fail2.csv, fail3.csv, fail4.xlsx, fail5.xlsx, fail6.xlsx;\n",
    "- таблицы базы данных postgres схема public: table1, table2, table3;\n",
    "- файлы: fail7.xml, fail8.xml;\n",
    "- файлы базы MongoDB: fail9.json, fail10.json, fail11.json.\n",
    "\n",
    "* считаю, что основой должны стать регулярные выражения, \n",
    "* подключаемся ко всем источникам ЕХД,\n",
    "* изучаем источники с уже описанными данными - строим функции на их основе,\n",
    "* ищем принципиальное наличие данных во всех источниках, уже разработанными функциями,\n",
    "* Вторая часть - это постоянное изучение вновь поступивших данных и разработка новых функций и их обогащение."
   ]
  },
  {
   "cell_type": "code",
   "execution_count": null,
   "id": "e6d7398c-6429-4e82-9200-d5bebd66f0e0",
   "metadata": {},
   "outputs": [],
   "source": [
    "#Подключение библиотек\n",
    "import pandas as pd\n",
    "from datetime import datetime\n",
    "import os\n",
    "import re\n",
    "import requests\n",
    "import json\n",
    "import psycopg2\n",
    "from pymongo import MongoClient"
   ]
  },
  {
   "cell_type": "markdown",
   "id": "047d9e7b-67eb-4039-98f1-6abcb77d2497",
   "metadata": {},
   "source": [
    "###   1. Подключение ко всем представленным источникам ЕХД."
   ]
  },
  {
   "cell_type": "code",
   "execution_count": null,
   "id": "2f65ba51-eb05-4116-b2ca-2bde97fdfae4",
   "metadata": {},
   "outputs": [],
   "source": [
    "# Подключение к PostgreSQL\n",
    "def connect_postgres():\n",
    "    conn = psycopg2.connect(\n",
    "        dbname='база',\n",
    "        user='пользователь',\n",
    "        password='пароль',\n",
    "        host='localhost')\n",
    "    return conn\n",
    "\n",
    "# Подключение к MongoDB\n",
    "def connect_mongodb():\n",
    "    client = MongoClient('mongodb://localhost:27017/')\n",
    "    return client\n",
    "\n",
    "# Чтение файлов CSV и Excel\n",
    "def read_csv_excel(file_path):\n",
    "    if file_path.endswith('.csv'):\n",
    "        return pd.read_csv(file_path)\n",
    "    elif file_path.endswith('.xlsx'):\n",
    "        return pd.read_excel(file_path)\n",
    "\n",
    "# Чтение JSON файлов MongoDB\n",
    "def read_json(file_path):\n",
    "    with open(file_path, 'r') as f:\n",
    "        return json.load(f)\n",
    "\n",
    "# Чтение XML файлов\n",
    "def read_xml(file_path):\n",
    "    # Здесь вы можете использовать библиотеку xml.etree.ElementTree или другую для обработки XML\n",
    "    pass"
   ]
  },
  {
   "cell_type": "markdown",
   "id": "d40989d9-3ccd-48e6-b785-7e0efaec8661",
   "metadata": {},
   "source": [
    "###   2. Определение состава ЕХД."
   ]
  },
  {
   "cell_type": "markdown",
   "id": "aac29888-686c-44c7-a617-ed53990cb633",
   "metadata": {},
   "source": [
    "Примерные запросы"
   ]
  },
  {
   "cell_type": "markdown",
   "id": "52b0cd87-07c2-411d-8003-3405a390b2d4",
   "metadata": {},
   "source": [
    "Postgres"
   ]
  },
  {
   "cell_type": "code",
   "execution_count": null,
   "id": "84fd3be1-70af-483e-a00f-0789ccda302d",
   "metadata": {},
   "outputs": [],
   "source": [
    "#все схемы базы Postgres\n",
    "query = ''' SELECT schema_name\n",
    "           FROM information_schema.schemata;\n",
    "        '''  \n",
    "# просмотр всех таблиц в схеме\n",
    "query = ''' SELECT table_name\n",
    "            FROM information_schema.tables\n",
    "            WHERE table_schema = 'public';\n",
    "        '''\n",
    "#просмотр всех столбцов конкретной таблицы\n",
    "query = ''' SELECT column_name, data_type, character_maximum_length\n",
    "            FROM information_schema.columns\n",
    "            WHERE table_name = 'моя таблица'\n",
    "        '''  "
   ]
  },
  {
   "cell_type": "markdown",
   "id": "fc3c2a48-68e5-4ebb-87ae-de62279b829f",
   "metadata": {},
   "source": [
    "Mongo"
   ]
  },
  {
   "cell_type": "code",
   "execution_count": null,
   "id": "91f356f7-46b1-4c49-a8c5-ae846527b8a4",
   "metadata": {},
   "outputs": [],
   "source": [
    "# посмотреть все базы\n",
    "show dbs\n",
    "\n",
    "# посмотреть все коллекции\n",
    "use имя_базы\n",
    "show collections\n",
    "\n",
    "#узнать структуру документов\n",
    "db.имя_коллекции.findOne()"
   ]
  },
  {
   "cell_type": "markdown",
   "id": "0e7512c2-c1c4-430e-8a07-32aa6465bfcc",
   "metadata": {},
   "source": [
    "###   3. Функции для проверки по регулярным выражениям"
   ]
  },
  {
   "cell_type": "markdown",
   "id": "0b7ce38d-7867-4277-baed-b8cb11ddd1b8",
   "metadata": {},
   "source": [
    "примерные функции, будем изменять после исследования данных на возможные комбинации в каждой категории: фамилия имя отчество, телефон, адрес, СНИЛС, ИНН, паспортные данные, электронная почта, дата рождения, место рождения."
   ]
  },
  {
   "cell_type": "code",
   "execution_count": null,
   "id": "ba373ebe-7912-45c1-aab4-874aa832109a",
   "metadata": {},
   "outputs": [],
   "source": [
    "# Функция для проверки номера телефона\n",
    "def is_valid_phone_number(phone):\n",
    "    pattern = r'^(?:\\+7|8|7)?\\s*\\(?9?15\\)?[-\\s]?\\d{3}[-\\s]?\\d{2}[-\\s]?\\d{2}$'\n",
    "    return re.match(pattern, phone)\n",
    "\n",
    "# Другие функции для проверки персональных данных (например, email, СНИЛС и т.д.)\n",
    "def is_valid_email(email):\n",
    "    pattern = r'^[a-zA-Z0-9_.+-]+@[a-zA-Z0-9-]+\\.[a-zA-Z0-9-.]+$'\n",
    "    return re.match(pattern, email)"
   ]
  },
  {
   "cell_type": "markdown",
   "id": "854cec5a-5e89-4517-b667-74367dedb0bf",
   "metadata": {},
   "source": [
    "### 4. Сохранение состояния хранилища + проверка на наличие ПД."
   ]
  },
  {
   "cell_type": "markdown",
   "id": "4e0892a4-b200-4567-a58a-87636f60cbb4",
   "metadata": {},
   "source": [
    "Сохраним состояние хранилища, чтобы впоследствие изучать только вновь поступившие данные"
   ]
  },
  {
   "cell_type": "markdown",
   "id": "2fe973f4-e1b8-4227-8af0-bddb006284e5",
   "metadata": {},
   "source": [
    "Примерные функции"
   ]
  },
  {
   "cell_type": "code",
   "execution_count": null,
   "id": "4edbc72e-8051-4148-b58f-d6729900e3c5",
   "metadata": {},
   "outputs": [],
   "source": [
    "# Сохранение состояния хранилища\n",
    "def save_storage_state(state, filename='storage_state.json'):\n",
    "    with open(filename, 'w') as f:\n",
    "        json.dump(state, f)\n",
    "\n",
    "# Загрузка состояния хранилища\n",
    "def load_storage_state(filename='storage_state.json'):\n",
    "    if os.path.exists(filename):\n",
    "        with open(filename, 'r') as f:\n",
    "            return json.load(f)\n",
    "    return {}\n",
    "\n",
    "def main():\n",
    "    # Подключение к базам данных\n",
    "    postgres_conn = connect_postgres()\n",
    "    mongo_client = connect_mongodb()\n",
    "\n",
    "    # Получение текущего состояния хранилища\n",
    "    current_state = {\n",
    "        'files': os.listdir('path_to_your_files'),\n",
    "        'postgres_tables': ['table1', 'table2', 'table3'],\n",
    "        'mongo_collections': mongo_client['your_db'].list_collection_names()\n",
    "    }\n",
    "\n",
    "    # Загрузка предыдущего состояния хранилища\n",
    "    previous_state = load_storage_state()\n",
    "\n",
    "    # Обнаружение новых данных\n",
    "    new_files = set(current_state['files']) - set(previous_state.get('files', []))\n",
    "    new_postgres_tables = set(current_state['postgres_tables']) - set(previous_state.get('postgres_tables', []))\n",
    "    new_mongo_collections = set(current_state['mongo_collections']) - set(previous_state.get('mongo_collections', []))\n",
    "\n",
    "    # Анализ данных на наличие персональных данных\n",
    "    for file in current_state['files']:\n",
    "        if file in new_files or not previous_state:\n",
    "            data = read_csv_excel(os.path.join('path_to_your_files', file))\n",
    "            \n",
    "    # Сохранение текущего состояния хранилища\n",
    "    save_storage_state(current_state)"
   ]
  },
  {
   "cell_type": "markdown",
   "id": "d9f247c7-1f14-4aa8-8a46-fac1b6cce3ad",
   "metadata": {},
   "source": [
    "проверяем состав состав папки на наличие, например, файлов excel"
   ]
  },
  {
   "cell_type": "code",
   "execution_count": null,
   "id": "4b2702c2-9b18-46ca-81b2-f8d5f06f3942",
   "metadata": {},
   "outputs": [],
   "source": [
    "def find_new_excel_files(directory, last_checked):\n",
    "    \"\"\"\n",
    "    Находит новые Excel-файлы в указанной директории с момента последней проверки.\n",
    "\n",
    "    :param directory: Путь к директории для поиска файлов.\n",
    "    :param last_checked: Время последней проверки.\n",
    "    :return: Новые файлы и текущее время проверки.\n",
    "    \"\"\"\n",
    "    # Список для хранения новых файлов\n",
    "    new_files = []\n",
    "\n",
    "    # Получаем текущее время для обновления времени последней проверки\n",
    "    current_time = datetime.now()\n",
    "\n",
    "    # Проходим по всем файлам в директории\n",
    "    for filename in os.listdir(directory):\n",
    "        # Проверяем, является ли файл Excel-файлом (по расширению)\n",
    "        if filename.endswith('.xlsx') or filename.endswith('.xls'):\n",
    "            # Получаем полный путь к файлу\n",
    "            file_path = os.path.join(directory, filename)\n",
    "            # Получаем время последнего изменения файла\n",
    "            file_mod_time = datetime.fromtimestamp(os.path.getmtime(file_path))\n",
    "            # Если файл был изменен после последней проверки, добавляем его в список\n",
    "            if file_mod_time > last_checked:\n",
    "                new_files.append(filename)\n",
    "\n",
    "    return new_files, current_time\n",
    "\n",
    "# Пример\n",
    "directory_path = '/путь/к/папке'\n",
    "last_checked_time = datetime(2023, 10, 1)  # Установим начальную дату последней проверки\n",
    "\n",
    "new_files, last_checked_time = find_new_excel_files(directory_path, last_checked_time)\n",
    "if new_files:\n",
    "    print(\"Новые файлы:\", new_files)\n",
    "else:\n",
    "    print(\"Новых файлов не обнаружено.\")"
   ]
  }
 ],
 "metadata": {
  "kernelspec": {
   "display_name": "Python 3 (ipykernel)",
   "language": "python",
   "name": "python3"
  },
  "language_info": {
   "codemirror_mode": {
    "name": "ipython",
    "version": 3
   },
   "file_extension": ".py",
   "mimetype": "text/x-python",
   "name": "python",
   "nbconvert_exporter": "python",
   "pygments_lexer": "ipython3",
   "version": "3.12.4"
  }
 },
 "nbformat": 4,
 "nbformat_minor": 5
}
